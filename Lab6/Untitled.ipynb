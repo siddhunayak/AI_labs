{
 "cells": [
  {
   "cell_type": "code",
   "execution_count": null,
   "id": "03210806-7237-492c-982d-2ee7e0bdce9e",
   "metadata": {},
   "outputs": [],
   "source": [
    "import numpy as np\n",
    "\n",
    "class HopfieldNetwork:\n",
    "    def __init__(self, size):\n",
    "        self.size = size\n",
    "        self.weights = np.zeros((size, size))\n",
    "\n",
    "    def train(self, patterns):\n",
    "        for pattern in patterns:\n",
    "            pattern = pattern.reshape(self.size, 1)\n",
    "            self.weights += np.dot(pattern, pattern.T)\n",
    "        np.fill_diagonal(self.weights, 0)\n",
    "        self.weights /= len(patterns)\n",
    "\n",
    "    def recall(self, pattern, max_iterations=10):\n",
    "        pattern = pattern.copy()\n",
    "        for _ in range(max_iterations):\n",
    "            for i in range(self.size):\n",
    "                pattern[i] = 1 if np.dot(self.weights[i], pattern) >= 0 else -1\n",
    "        return pattern\n",
    "\n",
    "size = 100\n",
    "patterns = [np.random.choice([-1, 1], size) for _ in range(15)]\n",
    "hopfield = HopfieldNetwork(size)\n",
    "hopfield.train(patterns)\n",
    "noisy_pattern = patterns[0].copy()\n",
    "noisy_pattern[np.random.randint(0, size, 10)] *= -1\n",
    "recalled_pattern = hopfield.recall(noisy_pattern)\n",
    "print(patterns[0].reshape(10, 10))\n",
    "print(noisy_pattern.reshape(10, 10))\n",
    "print(recalled_pattern.reshape(10, 10))\n"
   ]
  },
  {
   "cell_type": "code",
   "execution_count": null,
   "id": "8b3309de-75e8-448f-8285-d06c3f9accb5",
   "metadata": {},
   "outputs": [],
   "source": [
    "def test_error_correction(hopfield, original_pattern, max_flips=20):\n",
    "    for flips in range(max_flips + 1):\n",
    "        noisy_pattern = original_pattern.copy()\n",
    "        flip_indices = np.random.choice(len(original_pattern), flips, replace=False)\n",
    "        noisy_pattern[flip_indices] *= -1\n",
    "        recalled_pattern = hopfield.recall(noisy_pattern)\n",
    "        accuracy = np.sum(recalled_pattern == original_pattern) / len(original_pattern)\n",
    "        print(flips, accuracy)\n",
    "\n",
    "test_error_correction(hopfield, patterns[0])\n"
   ]
  },
  {
   "cell_type": "code",
   "execution_count": null,
   "id": "7dd9963d-737c-4833-9e24-b2a477b395b1",
   "metadata": {},
   "outputs": [],
   "source": [
    "def tsp_energy(state, distances):\n",
    "    energy = 0\n",
    "    n = len(state)\n",
    "    for i in range(n - 1):\n",
    "        energy += distances[state[i]][state[i + 1]]\n",
    "    energy += distances[state[-1]][state[0]]\n",
    "    return energy\n",
    "\n",
    "def solve_tsp(n=10):\n",
    "    distances = np.random.randint(1, 100, (n, n))\n",
    "    np.fill_diagonal(distances, 0)\n",
    "    state = np.random.permutation(n)\n",
    "    energy = tsp_energy(state, distances)\n",
    "    for _ in range(1000):\n",
    "        i, j = np.random.randint(0, n, 2)\n",
    "        state[i], state[j] = state[j], state[i]\n",
    "        new_energy = tsp_energy(state, distances)\n",
    "        if new_energy < energy:\n",
    "            energy = new_energy\n",
    "        else:\n",
    "            state[i], state[j] = state[j], state[i]\n",
    "    return state, distances, energy\n",
    "\n",
    "solution, dist_matrix, final_energy = solve_tsp()\n",
    "print(solution)\n",
    "print(dist_matrix)\n",
    "print(final_energy)\n"
   ]
  },
  {
   "cell_type": "code",
   "execution_count": null,
   "id": "b6bb476c-6226-4369-a220-4fa7ddc9e72d",
   "metadata": {},
   "outputs": [],
   "source": []
  }
 ],
 "metadata": {
  "kernelspec": {
   "display_name": "Python 3 (ipykernel)",
   "language": "python",
   "name": "python3"
  },
  "language_info": {
   "codemirror_mode": {
    "name": "ipython",
    "version": 3
   },
   "file_extension": ".py",
   "mimetype": "text/x-python",
   "name": "python",
   "nbconvert_exporter": "python",
   "pygments_lexer": "ipython3",
   "version": "3.11.7"
  }
 },
 "nbformat": 4,
 "nbformat_minor": 5
}
